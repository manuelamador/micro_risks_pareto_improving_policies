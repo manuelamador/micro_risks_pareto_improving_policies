{
 "cells": [
  {
   "cell_type": "markdown",
   "id": "5ebd011b-8a6d-4c56-ba22-6499e3756956",
   "metadata": {},
   "source": [
    "# Comparative statics with respect to preference parameters "
   ]
  },
  {
   "cell_type": "code",
   "execution_count": 1,
   "id": "f6e9b5ff-023b-4a7c-b917-6130dd9076a0",
   "metadata": {},
   "outputs": [],
   "source": [
    "import Pkg\n",
    "Pkg.activate(joinpath(@__DIR__, \"..\"))\n",
    "Pkg.instantiate()"
   ]
  },
  {
   "cell_type": "code",
   "execution_count": 2,
   "id": "e121cf5c",
   "metadata": {},
   "outputs": [],
   "source": [
    "using Revise\n",
    "using UnPack\n",
    "using Aiyagari\n",
    "using StructArrays\n",
    "using ProgressMeter\n",
    "using DelimitedFiles\n",
    "using Roots\n",
    "using Plots\n",
    "using LaTeXStrings\n",
    "using PrettyTables"
   ]
  },
  {
   "cell_type": "code",
   "execution_count": 3,
   "id": "505cf834",
   "metadata": {},
   "outputs": [
    {
     "data": {
      "text/plain": [
       "16"
      ]
     },
     "execution_count": 3,
     "metadata": {},
     "output_type": "execute_result"
    }
   ],
   "source": [
    "pgfplotsx();\n",
    "Threads.nthreads()"
   ]
  },
  {
   "cell_type": "code",
   "execution_count": 4,
   "id": "82f605c2",
   "metadata": {},
   "outputs": [],
   "source": [
    "ProgressMeter.ijulia_behavior(:clear);\n",
    "default(label = \"\", lw = 2, dpi = 300, left_margin = 0Plots.mm, format=:svg);"
   ]
  },
  {
   "cell_type": "code",
   "execution_count": 5,
   "id": "472a3b13-0fd5-4505-b0b1-09da97bef015",
   "metadata": {},
   "outputs": [
    {
     "data": {
      "text/plain": [
       "creating_economies (generic function with 1 method)"
      ]
     },
     "execution_count": 5,
     "metadata": {},
     "output_type": "execute_result"
    }
   ],
   "source": [
    "function creating_economies(vals_list)\n",
    "    e_vals = NamedTuple{(:ies, :crra, :β, :e),Tuple{Float64, Float64, Float64, Economy}}[]\n",
    "    for vals in vals_list\n",
    "        crra = vals.crra\n",
    "        β = vals.β\n",
    "        ies = vals.ies\n",
    "        e = let\n",
    "            #Household:\n",
    "            ar1 = 0.9695\n",
    "            sigmaP = sqrt(0.0384)/(1.2)\n",
    "            sigmaIID = sqrt(0.0522)/(1.2)\n",
    "            P, z_vals = calibration(5, 2 , ar1, sigmaP, sigmaIID)\n",
    "\n",
    "            hh = Household(u = EZ(ies = ies, ra = crra), grid_points = 5_000,\n",
    "                v = GHH(θ = 1.0, ν = 0.2), P = P, z_grid = z_vals, β = β, a_max = 10.0)\n",
    "\n",
    "            #Technology\n",
    "            δ = 0.1\n",
    "            μ = 1.4\n",
    "            α = .3\n",
    "            #ρ = 0.7\n",
    "            A_μ = 0.2\n",
    "            # t_μ = MarkupTechnology(f = CES(α = α, ρ = 0.7), δ = δ, μ = μ, A = A_μ)\n",
    "            t_μ = MarkupTechnology(f = CobbDouglas(α = α), δ = δ, μ = μ, A = A_μ)\n",
    "\n",
    "            Economy(h = hh, t = t_μ)\n",
    "        end\n",
    "        push!(e_vals, (ies = ies, crra = crra, β = β, e = e))\n",
    "    end\n",
    "    return e_vals\n",
    "end"
   ]
  },
  {
   "cell_type": "code",
   "execution_count": 6,
   "id": "c7955822-9968-43b9-8b38-7aeda8e19276",
   "metadata": {},
   "outputs": [],
   "source": [
    "ies_vals = (1.0, 0.5, 1.5)\n",
    "crra_vals = (5.5, 2.0, 10.0)\n",
    "β_vals = (0.993, 0.97, 0.98)\n",
    "\n",
    "pars = [(ies = ies_vals[1], crra = crra_vals[1], β = β_vals[1])]\n",
    "for ies in ies_vals[2:end]\n",
    "    push!(pars, (ies = ies, crra = crra_vals[1], β = β_vals[1]))\n",
    "end \n",
    "for crra in crra_vals[2:end]\n",
    "    push!(pars, (ies = ies_vals[1], crra = crra, β = β_vals[1]))\n",
    "end\n",
    "for β in β_vals[2:end]\n",
    "    push!(pars, (ies = ies_vals[1], crra = crra_vals[1], β = β))\n",
    "end\n",
    "e_vals = creating_economies(pars);"
   ]
  },
  {
   "cell_type": "code",
   "execution_count": 7,
   "id": "ca5e4c30-a68d-4bca-9c4a-a8a1d9ec941a",
   "metadata": {},
   "outputs": [],
   "source": [
    "# Internal parameters for computations \n",
    "_TOLS = (value_function = 1e-10, distribution = 1e-13) # (value_function = 1e-10, distribution = 1e-13)\n",
    "_ITERS = 100 # 100\n"
   ]
  },
  {
   "cell_type": "code",
   "execution_count": 9,
   "id": "a2f4d837-5596-492c-bc78-f24b3edcdf12",
   "metadata": {},
   "outputs": [
    {
     "data": {
      "text/plain": [
       "solve_models (generic function with 1 method)"
      ]
     },
     "execution_count": 9,
     "metadata": {},
     "output_type": "execute_result"
    }
   ],
   "source": [
    "function clean_transition_val(val)\n",
    "    @unpack e, ies, crra, β = val\n",
    "    y0 = val.laissez_faire.y\n",
    "    path_r = val.transition.path.r\n",
    "    path_tr = val.transition.path.transfer\n",
    "    return (ies = ies, crra = crra, β = β, y0 = y0, e = e, path_r = path_r, path_tr = path_tr)\n",
    "end \n",
    "\n",
    "function solve_models(e_vals; tols = _TOLS, iters = _ITERS)\n",
    "    #Iterate over preferences\n",
    "    transitions = Array{Any}(undef, length(e_vals))\n",
    "\n",
    "    # ## Transitions\n",
    "    T = 100  # period of adjustment\n",
    "    H = 50   # stationary part\n",
    "\n",
    "    Threads.@threads for i in 1:length(e_vals)\n",
    "        \n",
    "        println(\"Simulation # $i / $(length(e_vals)) started\")\n",
    "        \n",
    "        e = e_vals[i].e\n",
    "\n",
    "        # Solve laissez-faire economy\n",
    "        laissez_faire = let r_range = (-0.04, -0.00)\n",
    "            solve_laissez_faire(e;\n",
    "                r_range = r_range,\n",
    "                tol =  _TOLS, \n",
    "                verbose = false\n",
    "            )\n",
    "        end\n",
    "        \n",
    "        println(\"Finished laissez-faire for simulation # $i\")\n",
    "        \n",
    "        # We target a debt of 60% percent of output\n",
    "        b_target = laissez_faire.y * 0.60\n",
    "        k_target = laissez_faire.k\n",
    "\n",
    "        # Solve final SS\n",
    "        final_eq = solve_new_stationary_equilibrium_given_k_b(\n",
    "            laissez_faire,\n",
    "            k_target,\n",
    "            b_target;\n",
    "            r_range = (laissez_faire.r - 0.01, laissez_faire.r + 0.01),\n",
    "            tol = _TOLS, \n",
    "            verbose = false\n",
    "        )\n",
    "        println(\"Finished new eqm for simulation # $i\")\n",
    "\n",
    "        # Smooth debt policy\n",
    "        ρB = 0.9\n",
    "        b_list = Array{Float64,1}(undef, T + H)\n",
    "        b_list[1] = 0.0\n",
    "        b_list[2] = laissez_faire.y * 0.05\n",
    "        b_list[T:end] .= b_target\n",
    "        for j in 3:T-1\n",
    "            b_list[j] = b_list[2] * ρB^(j-2) + (1 - ρB^(j-2)) * b_target\n",
    "        end\n",
    "\n",
    "        # k remains constant\n",
    "        k_list = [laissez_faire.k for _ in b_list];\n",
    "\n",
    "        # Computes the transition\n",
    "        transition = solve_transition(\n",
    "            laissez_faire,\n",
    "            final_eq,\n",
    "            k_list,\n",
    "            b_list;\n",
    "            init_r_path = nothing,\n",
    "            iterations = _ITERS,\n",
    "            show_trace = false);\n",
    "        println(\"Finished transition for simulation # $i, residual = $(maximum(abs.(transition.residuals)))\")\n",
    "\n",
    "        transitions[i] = (e_vals[i]..., laissez_faire = laissez_faire, transition = transition)\n",
    "    end\n",
    "    \n",
    "    return [clean_transition_val(x) for x in transitions]\n",
    "end "
   ]
  },
  {
   "cell_type": "code",
   "execution_count": null,
   "id": "6518a872-06fa-412c-870c-6df710169c68",
   "metadata": {},
   "outputs": [
    {
     "name": "stdout",
     "output_type": "stream",
     "text": [
      "Simulation # 5 / 7 started\n",
      "Simulation # 1 / 7 started\n",
      "Simulation # 2 / 7 started\n",
      "Simulation # 4 / 7 started\n",
      "Simulation # 7 / 7 started\n",
      "Simulation # 3 / 7 started\n",
      "Simulation # 6 / 7 started\n",
      "Finished laissez-faire for simulation # 6\n",
      "Finished laissez-faire for simulation # 7\n",
      "Finished new eqm for simulation # 6\n",
      "Finished laissez-faire for simulation # 2\n",
      "Finished laissez-faire for simulation # 4\n",
      "Finished laissez-faire for simulation # 5\n",
      "Finished laissez-faire for simulation # 1\n",
      "Finished laissez-faire for simulation # 3\n",
      "Finished transition for simulation # 6, residual = 0.00012036879250076587\n",
      "Finished new eqm for simulation # 7\n",
      "Finished new eqm for simulation # 4\n",
      "Finished new eqm for simulation # 5\n",
      "Finished transition for simulation # 7, residual = 7.730003916640706e-5\n",
      "Finished new eqm for simulation # 1\n",
      "Finished transition for simulation # 4, residual = 0.0001731047070967182\n"
     ]
    }
   ],
   "source": [
    "@time out = solve_models(e_vals);"
   ]
  },
  {
   "cell_type": "markdown",
   "id": "53e9bdca-774a-4efa-86c3-24d128315c88",
   "metadata": {},
   "source": [
    "## Plots "
   ]
  },
  {
   "cell_type": "code",
   "execution_count": null,
   "id": "12932973-7d71-41d7-92b5-56d657af09a5",
   "metadata": {},
   "outputs": [],
   "source": [
    "benchmark = let \n",
    "    benchmark_i = findfirst(x -> x.ies == ies_vals[1] && x.crra == crra_vals[1] && x.β == β_vals[1], out)\n",
    "    out[benchmark_i]\n",
    "end"
   ]
  },
  {
   "cell_type": "markdown",
   "id": "dbc8c072-6efd-4215-a775-c199b7ad94bc",
   "metadata": {},
   "source": [
    "### IES"
   ]
  },
  {
   "cell_type": "code",
   "execution_count": null,
   "id": "5266c128-4f62-47f3-a1b0-c9902bced6cb",
   "metadata": {},
   "outputs": [],
   "source": [
    "f1 = plot(benchmark.path_r,  linecolor=:blue, lw = 2, size = (1000/3, 500/2))\n",
    "plot!(f1, [y.path_r for y in out if y.ies==0.5 && y.crra==5.5 && y.β==0.993], linecolor=:black, linestyle=:dash, lw = 1)\n",
    "plot!(f1, [y.path_r for y in out if y.ies==1.5 && y.crra==5.5 && y.β==0.993], linecolor=:red, linestyle=:dot, lw = 1)"
   ]
  },
  {
   "cell_type": "code",
   "execution_count": null,
   "id": "ffbf389f-bd9c-4ddd-98f4-d114e3a1fb14",
   "metadata": {},
   "outputs": [],
   "source": [
    "savefig(f1, joinpath(@__DIR__, \"output\", \"figures\", \"IES_interest.pdf\"))"
   ]
  },
  {
   "cell_type": "code",
   "execution_count": null,
   "id": "d855648d-4e33-4e63-9c38-a62bdd51e1a1",
   "metadata": {},
   "outputs": [],
   "source": [
    "f2 = plot(benchmark.path_tr./benchmark.y0,  linecolor=:blue, lw = 1)\n",
    "plot!(f2, [y.path_tr./y.y0 for y in out if y.ies==0.5 && y.crra==5.5 && y.β==0.993], linecolor=:black, linestyle=:dash, lw = 1)\n",
    "plot!(f2, [y.path_tr./y.y0 for y in out if y.ies==1.5 && y.crra==5.5 && y.β==0.993], linecolor=:red, linestyle=:dot, lw = 1)"
   ]
  },
  {
   "cell_type": "code",
   "execution_count": null,
   "id": "cfeacf61-f8d8-41c8-94a2-26f846558b18",
   "metadata": {},
   "outputs": [],
   "source": [
    "savefig(f2, joinpath(@__DIR__, \"output\", \"figures\", \"IES_transfers.pdf\"))"
   ]
  },
  {
   "cell_type": "markdown",
   "id": "937696dc-7e1a-4e96-8126-4ac04a04a38d",
   "metadata": {},
   "source": [
    "### Discount"
   ]
  },
  {
   "cell_type": "code",
   "execution_count": null,
   "id": "e224af49-f676-4d32-826b-846097f20fea",
   "metadata": {},
   "outputs": [],
   "source": [
    "f3 = plot(benchmark.path_r,  linecolor=:blue, lw = 1)\n",
    "plot!(f3, [y.path_r for y in out if y.ies==1.0 && y.crra==5.5 && y.β==0.97], linecolor=:black, linestyle=:dash, lw = 1)\n",
    "plot!(f3, [y.path_r for y in out if y.ies==1.0 && y.crra==5.5 && y.β==0.98], linecolor=:red, linestyle=:dot, lw = 1)"
   ]
  },
  {
   "cell_type": "code",
   "execution_count": null,
   "id": "2ad7bed2-93ef-4793-ae58-009fb339d9e5",
   "metadata": {},
   "outputs": [],
   "source": [
    "savefig(f3, joinpath(@__DIR__, \"output\", \"figures\", \"Beta_interest.pdf\"))"
   ]
  },
  {
   "cell_type": "code",
   "execution_count": null,
   "id": "95d954f6-7776-4cad-9958-459583a7146c",
   "metadata": {},
   "outputs": [],
   "source": [
    "f4 = plot(benchmark.path_tr./benchmark.y0,  linecolor=:blue, lw = 1)\n",
    "plot!(f4, [y.path_tr./y.y0 for y in out if y.ies==1.0 && y.crra==5.5 && y.β==0.97], linecolor=:black, linestyle=:dash, lw = 1)\n",
    "plot!(f4, [y.path_tr./y.y0 for y in out if y.ies==1.0 && y.crra==5.5 && y.β==0.98], linecolor=:red, linestyle=:dot, lw = 1)"
   ]
  },
  {
   "cell_type": "code",
   "execution_count": null,
   "id": "1f313319-3655-48ad-ae33-d28e4c8b7054",
   "metadata": {},
   "outputs": [],
   "source": [
    "savefig(f4, joinpath(@__DIR__, \"output\", \"figures\", \"Beta_transfers.pdf\"))"
   ]
  },
  {
   "cell_type": "markdown",
   "id": "d635e8f8-8c5e-4152-81a2-3da37af01f10",
   "metadata": {},
   "source": [
    "### CRRA"
   ]
  },
  {
   "cell_type": "code",
   "execution_count": null,
   "id": "2390eee2-7c3b-4ffb-9643-a28791c2e8f2",
   "metadata": {},
   "outputs": [],
   "source": [
    "f5 = plot(benchmark.path_r,  linecolor=:blue, lw = 1)\n",
    "plot!(f5, [y.path_r for y in out if y.ies==1.0 && y.crra==2.0 && y.β==0.993], linecolor=:black, linestyle=:dash, lw = 1)\n",
    "plot!(f5, [y.path_r for y in out if y.ies==1.0 && y.crra==10.0 && y.β==0.993], linecolor=:red, linestyle=:dot, lw = 1)"
   ]
  },
  {
   "cell_type": "code",
   "execution_count": null,
   "id": "4ddd56bf-df96-4f37-a342-caa7c58a14bb",
   "metadata": {},
   "outputs": [],
   "source": [
    "savefig(f5, joinpath(@__DIR__, \"output\", \"figures\", \"CRRA_interest.pdf\"))"
   ]
  },
  {
   "cell_type": "code",
   "execution_count": null,
   "id": "7e002c40-e0fa-4f08-a654-f103c51757a2",
   "metadata": {},
   "outputs": [],
   "source": [
    "f6 = plot(benchmark.path_tr./benchmark.y0,  linecolor=:blue, lw = 1)\n",
    "plot!(f6, [y.path_tr./y.y0 for y in out if y.ies==1.0 && y.crra==2.0 && y.β==0.993], linecolor=:black, linestyle=:dash, lw = 1)\n",
    "plot!(f6, [y.path_tr./y.y0 for y in out if y.ies==1.0 && y.crra==10.0 && y.β==0.993], linecolor=:red, linestyle=:dot, lw = 1)"
   ]
  },
  {
   "cell_type": "code",
   "execution_count": null,
   "id": "a5f40cf7-b734-41cb-9620-6e814b3ccf75",
   "metadata": {},
   "outputs": [],
   "source": [
    "savefig(f6, joinpath(@__DIR__, \"output\", \"figures\", \"CRRA_transfers.pdf\"))"
   ]
  },
  {
   "cell_type": "markdown",
   "id": "c81aab77-71b8-4426-ba2d-6ed3ee3b9923",
   "metadata": {},
   "source": [
    "## Tables"
   ]
  },
  {
   "cell_type": "code",
   "execution_count": null,
   "id": "ca1c0c11-5996-48c5-b194-4bb954fa55b6",
   "metadata": {},
   "outputs": [],
   "source": [
    "rates = []\n",
    "push!(rates,(Elasticity=\"Benchmark\", Initial=benchmark.path_r[1],Final=benchmark.path_r[end],Max=maximum(benchmark.path_r)))\n",
    "push!(rates,\n",
    "    (Elasticity=\"Inelastic\", Initial=[y.path_r for y in out if y.ies==0.5 && y.crra==5.5 && y.β==0.993][1][1],\n",
    "    Final=[y.path_r for y in out if y.ies==0.5 && y.crra==5.5 && y.β==0.993][1][end], \n",
    "    Max=maximum([y.path_r for y in out if y.ies==0.5 && y.crra==5.5 && y.β==0.993][1])\n",
    "    )\n",
    ")\n",
    "push!(rates,\n",
    "    (Elasticity=\"Elastic\", Initial=[y.path_r for y in out if y.ies==1.5 && y.crra==5.5 && y.β==0.993][1][1],\n",
    "    Final=[y.path_r for y in out if y.ies==1.5 && y.crra==5.5 && y.β==0.993][1][end], \n",
    "    Max=maximum([y.path_r for y in out if y.ies==1.5 && y.crra==5.5 && y.β==0.993][1])\n",
    "    )\n",
    ")\n",
    "\n",
    "transfers = []\n",
    "push!(transfers,(Elasticity=\"Benchmark\", y0=benchmark.y0, Initial=benchmark.path_tr[1],Final=benchmark.path_tr[end],Min=minimum(benchmark.path_tr)))\n",
    "push!(transfers,\n",
    "    (Elasticity=\"Inelastic\", y0=[y.y0 for y in out if y.ies==0.5 && y.crra==5.5 && y.β==0.993][1], Initial=[y.path_tr./y.y0 for y in out if y.ies==0.5 && y.crra==5.5 && y.β==0.993][1][1],\n",
    "    Final=[y.path_tr./y.y0 for y in out if y.ies==0.5 && y.crra==5.5 && y.β==0.993][1][end], \n",
    "    Min=minimum([y.path_tr./y.y0 for y in out if y.ies==0.5 && y.crra==5.5 && y.β==0.993][1])\n",
    "    )\n",
    ")\n",
    "push!(transfers,\n",
    "    (Elasticity=\"Elastic\", y0=[y.y0 for y in out if y.ies==1.5 && y.crra==5.5 && y.β==0.993][1], Initial=[y.path_tr./y.y0 for y in out if y.ies==1.5 && y.crra==5.5 && y.β==0.993][1][1],\n",
    "    Final=[y.path_tr./y.y0 for y in out if y.ies==1.5 && y.crra==5.5 && y.β==0.993][1][end], \n",
    "    Min=minimum([y.path_tr./y.y0 for y in out if y.ies==1.5 && y.crra==5.5 && y.β==0.993][1])\n",
    "    )\n",
    ")"
   ]
  },
  {
   "cell_type": "code",
   "execution_count": null,
   "id": "4b72097f-94cb-41c3-86ba-b55dfe3cd04f",
   "metadata": {},
   "outputs": [],
   "source": [
    "pretty_table([y for y in rates])"
   ]
  },
  {
   "cell_type": "code",
   "execution_count": null,
   "id": "340432e7-3dac-455f-9c92-feee8ccb16e0",
   "metadata": {},
   "outputs": [],
   "source": [
    "pretty_table([y for y in transfers])"
   ]
  },
  {
   "cell_type": "code",
   "execution_count": null,
   "id": "088236eb-275e-4d8e-82ce-616dea23d978",
   "metadata": {},
   "outputs": [],
   "source": []
  }
 ],
 "metadata": {
  "jupytext": {
   "cell_metadata_filter": "-all",
   "formats": "auto:light,ipynb",
   "notebook_metadata_filter": "-all"
  },
  "kernelspec": {
   "display_name": "Julia 16 threads 1.6.1",
   "language": "julia",
   "name": "julia-16-threads-1.6"
  },
  "language_info": {
   "file_extension": ".jl",
   "mimetype": "application/julia",
   "name": "julia",
   "version": "1.6.1"
  }
 },
 "nbformat": 4,
 "nbformat_minor": 5
}
