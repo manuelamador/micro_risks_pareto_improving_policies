{
 "cells": [
  {
   "cell_type": "markdown",
   "id": "f08d5b8d",
   "metadata": {},
   "source": [
    "# Dynamic Efficient Case"
   ]
  },
  {
   "cell_type": "code",
   "execution_count": 53,
   "id": "98ac6aa4",
   "metadata": {
    "tags": []
   },
   "outputs": [],
   "source": [
    "import Pkg; Pkg.activate(joinpath(@__DIR__, \"..\"))\n",
    "Pkg.instantiate()\n",
    "using Revise\n",
    "using Aiyagari\n",
    "using StructArrays\n",
    "using ProgressMeter\n",
    "using DelimitedFiles\n",
    "using Roots\n",
    "using Plots\n",
    "using LaTeXStrings"
   ]
  },
  {
   "cell_type": "code",
   "execution_count": 54,
   "id": "f16dfcb2",
   "metadata": {},
   "outputs": [
    {
     "data": {
      "text/plain": [
       "4"
      ]
     },
     "execution_count": 54,
     "metadata": {},
     "output_type": "execute_result"
    }
   ],
   "source": [
    "pgfplotsx();\n",
    "Threads.nthreads()"
   ]
  },
  {
   "cell_type": "code",
   "execution_count": 55,
   "id": "184aac07",
   "metadata": {},
   "outputs": [],
   "source": [
    "ProgressMeter.ijulia_behavior(:clear);\n",
    "default(label = \"\", lw = 2, dpi = 300, left_margin = 0Plots.mm, format=:svg);"
   ]
  },
  {
   "cell_type": "code",
   "execution_count": 56,
   "id": "5b6cca22",
   "metadata": {},
   "outputs": [
    {
     "data": {
      "text/plain": [
       "1"
      ]
     },
     "execution_count": 56,
     "metadata": {},
     "output_type": "execute_result"
    }
   ],
   "source": [
    "_LOAD_GUESSES = true # load the initial starting guesses for zeros from disk\n",
    "_SAVE_GUESSES = false # save zeros to disk\n",
    "_ITERS = 1\n",
    "\n",
    "# Setting _LOAD_GUESSES to false will recompute all the calculations from scratch. At that point, \n",
    "# set _ITERS to a higher number. "
   ]
  },
  {
   "cell_type": "markdown",
   "id": "f4b7a7c0",
   "metadata": {},
   "source": [
    "## The benchmark calibration "
   ]
  },
  {
   "cell_type": "code",
   "execution_count": 57,
   "id": "a3827ae8",
   "metadata": {},
   "outputs": [
    {
     "data": {
      "text/plain": [
       "Economy: EZ(ies = 1.0, ra = 5.5), β=0.993, v=GHH(θ = 1.0, ν = 0.2), z_grid=[0.17222630362336605..3.621762275547772], P=[..], pts=5000, a_max=10.0, a_min=0.0, CobbDouglas(α=0.3), A=0.2, δ=0.1, μ=1.4, m=0.0, X=0.0"
      ]
     },
     "execution_count": 57,
     "metadata": {},
     "output_type": "execute_result"
    }
   ],
   "source": [
    "#' The parameters for technology and households.\n",
    "e = let \n",
    "    #Household:\n",
    "    ar1 = 0.9695\n",
    "    sigmaP = sqrt(0.0384)/(1.2)\n",
    "    sigmaIID = sqrt(0.0522)/(1.2)\n",
    "    P, z_vals = calibration(5, 2 , ar1, sigmaP, sigmaIID)\n",
    "\n",
    "    ies = 1.0\n",
    "    crra = 5.5\n",
    "    β = 0.993\n",
    "    \n",
    "    hh = Household(u = EZ(ies = ies, ra = crra), grid_points = 5_000,\n",
    "        v = GHH(θ = 1.0, ν = 0.2), P = P, z_grid = z_vals, β = β, a_max = 10.0)\n",
    "\n",
    "    #Technology\n",
    "    δ = 0.1\n",
    "    μ = 1.4\n",
    "    α = .3\n",
    "    #ρ = 0.7\n",
    "    A_μ = 0.2\n",
    "    # t_μ = MarkupTechnology(f = CES(α = α, ρ = 0.7), δ = δ, μ = μ, A = A_μ)\n",
    "    t_μ = MarkupTechnology(f = CobbDouglas(α = α), δ = δ, μ = μ, A = A_μ)\n",
    "\n",
    "    Economy(h = hh, t = t_μ)\n",
    "end"
   ]
  },
  {
   "cell_type": "code",
   "execution_count": 58,
   "id": "56b6bca7",
   "metadata": {},
   "outputs": [
    {
     "name": "stderr",
     "output_type": "stream",
     "text": [
      "\r",
      "\u001b[32mProgress:  16 \t Time: 0:03:53\u001b[39m\r\n",
      "\u001b[34m  r:       -0.016951710071023102\u001b[39m\r\n",
      "\u001b[34m  excess:  1.1102230246251565e-16\u001b[39m"
     ]
    },
    {
     "name": "stdout",
     "output_type": "stream",
     "text": [
      "277.242757 seconds (794.17 M allocations: 12.814 GiB, 3.65% gc time, 17.86% compilation time)\n"
     ]
    },
    {
     "data": {
      "text/plain": [
       "r=-0.016951710071023102, b=0.0, k=0.5596544237494959, transfer=0.0,  y=0.21689893327005233, Economy: EZ(ies = 1.0, ra = 5.5), β=0.993, v=GHH(θ = 1.0, ν = 0.2), z_grid=[0.17222630362336605..3.621762275547772], P=[..], pts=5000, a_max=10.0, a_min=0.0, CobbDouglas(α=0.3), A=0.2, δ=0.1, μ=1.4, m=0.0, X=0.0"
      ]
     },
     "execution_count": 58,
     "metadata": {},
     "output_type": "execute_result"
    }
   ],
   "source": [
    "# Solve laissez-faire economy\n",
    "@time laissez_faire = let r_range = (-0.0170, -0.0169)\n",
    "    solve_laissez_faire(e; \n",
    "        r_range = r_range, \n",
    "        tol =  (value_function = 1e-10, distribution = 1e-13)\n",
    "    ) \n",
    "end "
   ]
  },
  {
   "cell_type": "markdown",
   "id": "1c2f62c0",
   "metadata": {},
   "source": [
    "## Transitions"
   ]
  },
  {
   "cell_type": "code",
   "execution_count": 59,
   "id": "b0bc5f29",
   "metadata": {},
   "outputs": [
    {
     "data": {
      "text/plain": [
       "50"
      ]
     },
     "execution_count": 59,
     "metadata": {},
     "output_type": "execute_result"
    }
   ],
   "source": [
    "T = 100  # period of adjustment\n",
    "H = 50   # stationary part "
   ]
  },
  {
   "cell_type": "markdown",
   "id": "ca65a827",
   "metadata": {},
   "source": [
    "## Transition with constant k and smooth b"
   ]
  },
  {
   "cell_type": "markdown",
   "id": "57ba4a99",
   "metadata": {},
   "source": [
    "We target a debt of 59% percent of output"
   ]
  },
  {
   "cell_type": "code",
   "execution_count": 60,
   "id": "00da6501",
   "metadata": {},
   "outputs": [
    {
     "data": {
      "text/plain": [
       "0.5596544237494959"
      ]
     },
     "execution_count": 60,
     "metadata": {},
     "output_type": "execute_result"
    }
   ],
   "source": [
    "b_target = laissez_faire.y * 0.60\n",
    "k_target = laissez_faire.k"
   ]
  },
  {
   "cell_type": "code",
   "execution_count": null,
   "id": "c44b5afd",
   "metadata": {},
   "outputs": [],
   "source": [
    "@time final_eq_1 = solve_new_stationary_equilibrium_given_k_b(\n",
    "    laissez_faire,\n",
    "    k_target, \n",
    "    b_target; \n",
    "    r_range = (laissez_faire.r, -0.010),\n",
    "    tol = (value_function = 1e-10, distribution = 1e-13)\n",
    ")"
   ]
  },
  {
   "cell_type": "code",
   "execution_count": null,
   "id": "ad214e75",
   "metadata": {},
   "outputs": [],
   "source": [
    "# Smooth debt policy\n",
    "ρB = 0.9\n",
    "b_list = Array{Float64,1}(undef, T + H)\n",
    "b_list[1] = 0.0\n",
    "b_list[2] = laissez_faire.y * 0.05\n",
    "b_list[T:end] .= b_target\n",
    "for i in 3:T-1\n",
    "    b_list[i] = b_list[2] * ρB^(i-2) + (1 - ρB^(i-2)) * b_target   \n",
    "end"
   ]
  },
  {
   "cell_type": "code",
   "execution_count": null,
   "id": "23f7f4ab",
   "metadata": {},
   "outputs": [],
   "source": [
    "# k remains constant\n",
    "k_list = [laissez_faire.k for _ in b_list]; "
   ]
  },
  {
   "cell_type": "markdown",
   "id": "c42d74e1",
   "metadata": {},
   "source": [
    "Computes the transition "
   ]
  },
  {
   "cell_type": "code",
   "execution_count": null,
   "id": "d1487a50",
   "metadata": {},
   "outputs": [],
   "source": [
    "r_path = nothing \n",
    "if _LOAD_GUESSES\n",
    "    r_path = try \n",
    "        # load the transfer vector from previous iterations \n",
    "        readdlm(joinpath(@__DIR__,\"..\", \"output\", \"tmp_calcs\", \"tmp_r_001.txt\"))\n",
    "    catch \n",
    "        nothing \n",
    "    end\n",
    "end;"
   ]
  },
  {
   "cell_type": "code",
   "execution_count": null,
   "id": "77f5e835",
   "metadata": {
    "tags": []
   },
   "outputs": [],
   "source": [
    "@time transition = solve_transition(\n",
    "    laissez_faire, \n",
    "    final_eq_1, \n",
    "    k_list, \n",
    "    b_list; \n",
    "    init_r_path = r_path, \n",
    "    iterations = _ITERS);"
   ]
  },
  {
   "cell_type": "code",
   "execution_count": null,
   "id": "403bed87",
   "metadata": {
    "tags": []
   },
   "outputs": [],
   "source": [
    "_SAVE_GUESSES && open(joinpath(@__DIR__, \"..\", \"output\", \"tmp_calcs\", \"tmp_r_001.txt\"), \"w\") do io\n",
    "    writedlm(io, transition.path.r)\n",
    "end"
   ]
  },
  {
   "cell_type": "markdown",
   "id": "0a08c367",
   "metadata": {},
   "source": [
    "### Plots"
   ]
  },
  {
   "cell_type": "code",
   "execution_count": null,
   "id": "fc098548",
   "metadata": {},
   "outputs": [],
   "source": [
    "plot(transition.path.transfer, fill = 0, alpha = 0.3,)\n",
    "plot!(transition.path.transfer, color=1)\n",
    "hline!([final_eq_1.transfer], lw = 1, style = :dash)"
   ]
  },
  {
   "cell_type": "code",
   "execution_count": null,
   "id": "74fea423",
   "metadata": {},
   "outputs": [],
   "source": [
    "plot(transition.path.r, legend=false)\n",
    "hline!([laissez_faire.r], lw = 1)\n",
    "hline!([final_eq_1.r], lw = 1)"
   ]
  },
  {
   "cell_type": "markdown",
   "id": "f52f0d72",
   "metadata": {},
   "source": [
    "## Transition with increasing k and increasing b"
   ]
  },
  {
   "cell_type": "markdown",
   "id": "31a52199",
   "metadata": {},
   "source": [
    "We go to the golden rule k -- slowly."
   ]
  },
  {
   "cell_type": "code",
   "execution_count": null,
   "id": "f9f8ea11",
   "metadata": {},
   "outputs": [],
   "source": [
    "k_golden = get_golden_k(e.t, laissez_faire.n)\n",
    "ρK = 0.95\n",
    "k_list_2 = similar(k_list)\n",
    "for i in eachindex(k_list_2)\n",
    "    k_list_2[i] = laissez_faire.k * ρK^(i-1) + (1 - ρK^(i-1)) * k_golden\n",
    "end "
   ]
  },
  {
   "cell_type": "markdown",
   "id": "d92201fb",
   "metadata": {},
   "source": [
    "The debt path and its target remains as in the previous case"
   ]
  },
  {
   "cell_type": "code",
   "execution_count": null,
   "id": "04bd9e26",
   "metadata": {},
   "outputs": [],
   "source": [
    "b_list_2 = b_list\n",
    "b_target_2 = b_list[end]"
   ]
  },
  {
   "cell_type": "markdown",
   "id": "68477392",
   "metadata": {},
   "source": [
    "Computing the new stationary equilibrium in this case:"
   ]
  },
  {
   "cell_type": "code",
   "execution_count": null,
   "id": "201cef48",
   "metadata": {},
   "outputs": [],
   "source": [
    "@time final_eq_2 = solve_new_stationary_equilibrium_given_k_b(\n",
    "    laissez_faire,\n",
    "    k_list_2[end], \n",
    "    b_target_2; \n",
    "    r_range = (laissez_faire.r, -0.010),\n",
    "    tol = (value_function = 1e-10, distribution = 1e-13)\n",
    ")"
   ]
  },
  {
   "cell_type": "markdown",
   "id": "2291f845",
   "metadata": {},
   "source": [
    "Computing the transition:"
   ]
  },
  {
   "cell_type": "code",
   "execution_count": null,
   "id": "42980731",
   "metadata": {},
   "outputs": [],
   "source": [
    "r_path_2 = nothing \n",
    "if _LOAD_GUESSES\n",
    "    r_path_2 = try \n",
    "        # load the transfer vector from previous iterations \n",
    "        readdlm(joinpath(@__DIR__, \"..\", \"output\", \"tmp_calcs\", \"tmp_r_002.txt\"))\n",
    "    catch b\n",
    "        nothing \n",
    "    end\n",
    "end;"
   ]
  },
  {
   "cell_type": "code",
   "execution_count": null,
   "id": "3c051dca",
   "metadata": {
    "tags": []
   },
   "outputs": [],
   "source": [
    "@time transition_2 = solve_transition(\n",
    "    laissez_faire, \n",
    "    final_eq_2, \n",
    "    k_list_2, \n",
    "    b_list_2; \n",
    "    init_r_path = r_path_2,\n",
    "    beta = -0.02,\n",
    "    m = 10,\n",
    "    iterations = _ITERS\n",
    ");"
   ]
  },
  {
   "cell_type": "code",
   "execution_count": null,
   "id": "2f3010d3",
   "metadata": {},
   "outputs": [],
   "source": [
    "_SAVE_GUESSES && open(joinpath(@__DIR__, \"..\", \"output\", \"tmp_calcs\", \"tmp_r_002.txt\"), \"w\") do io\n",
    "    writedlm(io, transition_2.path.r)\n",
    "end"
   ]
  },
  {
   "cell_type": "markdown",
   "id": "2be781a1",
   "metadata": {},
   "source": [
    "### Plots"
   ]
  },
  {
   "cell_type": "code",
   "execution_count": null,
   "id": "b5f4400b",
   "metadata": {},
   "outputs": [],
   "source": [
    "plot(transition_2.path.transfer, fill = 0, alpha = 0.3)\n",
    "plot!(transition_2.path.transfer, color = 1)\n",
    "hline!([0, final_eq_2.transfer], lw = 1)"
   ]
  },
  {
   "cell_type": "code",
   "execution_count": null,
   "id": "fa32b176",
   "metadata": {},
   "outputs": [],
   "source": [
    "plot(transition_2.path.r, legend=false)\n",
    "hline!([laissez_faire.r], lw = 1)\n",
    "hline!([final_eq_2.r])"
   ]
  },
  {
   "cell_type": "markdown",
   "id": "f59fc4da",
   "metadata": {},
   "source": [
    "#### Comparison with previous case"
   ]
  },
  {
   "cell_type": "code",
   "execution_count": null,
   "id": "77d4d82c",
   "metadata": {},
   "outputs": [],
   "source": [
    "f1 = plot(transition_2.path.v[1] ./ laissez_faire.v .- transition.path.v[1] ./ laissez_faire.v, \n",
    "    legend = :bottom,\n",
    "    title = \"Welfare gain with k increasing wrt to k fixed\")\n",
    "f2 = plot(transition.path.v[1] ./ laissez_faire.v .- 1)\n",
    "plot(f1, f2, size = (1000, 400))"
   ]
  },
  {
   "cell_type": "code",
   "execution_count": null,
   "id": "3e8717c3",
   "metadata": {},
   "outputs": [],
   "source": [
    "plot(transition_2.path.transfer, label=\"new\")\n",
    "plot!(transition.path.transfer, label=\"old\")"
   ]
  },
  {
   "cell_type": "code",
   "execution_count": null,
   "id": "3690e394",
   "metadata": {},
   "outputs": [],
   "source": [
    "plot(transition_2.path.r, label=\"new\")\n",
    "plot!(transition.path.r, label=\"old\")"
   ]
  },
  {
   "cell_type": "code",
   "execution_count": null,
   "id": "b026d59b",
   "metadata": {},
   "outputs": [],
   "source": [
    "plot(\n",
    "    [ -(1 + r) * b + bprime for (b, bprime, r) in\n",
    "        zip(transition.path.b, transition.path.b[2:end], transition.path.r)],\n",
    "    label = \"old\"\n",
    ")\n",
    "plot!(\n",
    "    [ -(1 + r) * b + bprime for (b, bprime, r) in\n",
    "        zip(transition_2.path.b, transition_2.path.b[2:end], transition_2.path.r)],\n",
    "    label = \"new\"\n",
    ")"
   ]
  },
  {
   "cell_type": "markdown",
   "id": "aa86ed7d",
   "metadata": {},
   "source": [
    "## Transition with increasing k and no debt"
   ]
  },
  {
   "cell_type": "markdown",
   "id": "867f6621",
   "metadata": {},
   "source": [
    "No debt: "
   ]
  },
  {
   "cell_type": "code",
   "execution_count": null,
   "id": "c93ac85f",
   "metadata": {},
   "outputs": [],
   "source": [
    "b_list_3 = [0.0 for _ in k_list]\n",
    "b_target_3 = b_list_3[end];"
   ]
  },
  {
   "cell_type": "markdown",
   "id": "4afd10cf",
   "metadata": {},
   "source": [
    "But the same increase in k as before:"
   ]
  },
  {
   "cell_type": "code",
   "execution_count": null,
   "id": "dc2da559",
   "metadata": {},
   "outputs": [],
   "source": [
    "k_list_3 = k_list_2;"
   ]
  },
  {
   "cell_type": "markdown",
   "id": "ec1e6aab",
   "metadata": {},
   "source": [
    "Computing the new stationary equilibrium"
   ]
  },
  {
   "cell_type": "code",
   "execution_count": null,
   "id": "acb27427",
   "metadata": {},
   "outputs": [],
   "source": [
    "@time final_eq_3 = solve_new_stationary_equilibrium_given_k_b(\n",
    "    laissez_faire,\n",
    "    k_list_3[end], \n",
    "    b_target_3; \n",
    "    r_range = (laissez_faire.r, -0.010),\n",
    "    tol = (value_function = 1e-10, distribution = 1e-13)\n",
    ")"
   ]
  },
  {
   "cell_type": "code",
   "execution_count": null,
   "id": "47bbe76b",
   "metadata": {},
   "outputs": [],
   "source": [
    "r_path_3 = nothing \n",
    "if _LOAD_GUESSES \n",
    "    r_path_3 = try \n",
    "        readdlm(joinpath(@__DIR__, \"..\", \"output\", \"tmp_calcs\", \"tmp_r_003.txt\"))\n",
    "    catch \n",
    "        nothing \n",
    "    end\n",
    "end;"
   ]
  },
  {
   "cell_type": "code",
   "execution_count": null,
   "id": "0199a98c",
   "metadata": {
    "tags": []
   },
   "outputs": [],
   "source": [
    "@time transition_3 = solve_transition(\n",
    "    laissez_faire, \n",
    "    final_eq_3, \n",
    "    k_list_3, \n",
    "    b_list_3; \n",
    "    init_r_path = r_path_3,\n",
    "    beta = -0.02,\n",
    "    m = 10,\n",
    "    iterations = _ITERS\n",
    ");"
   ]
  },
  {
   "cell_type": "code",
   "execution_count": null,
   "id": "08714af5",
   "metadata": {},
   "outputs": [],
   "source": [
    "_SAVE_GUESSES && open(joinpath(@__DIR__, \"..\", \"output\", \"tmp_calcs\", \"tmp_r_003.txt\"), \"w\") do io\n",
    "    writedlm(io, transition_3.path.r)\n",
    "end"
   ]
  },
  {
   "cell_type": "markdown",
   "id": "a9a09b88",
   "metadata": {},
   "source": [
    "### Plots "
   ]
  },
  {
   "cell_type": "code",
   "execution_count": null,
   "id": "707ebd2b",
   "metadata": {},
   "outputs": [],
   "source": [
    "plot(transition_3.path.transfer, \n",
    "    fill = 0, alpha = 0.3, label = \"transfers\", legend = :bottom)\n",
    "plot!(transition_3.path.transfer, color = 1) \n",
    "hline!([0, final_eq_3.transfer], lw = 1)"
   ]
  },
  {
   "cell_type": "code",
   "execution_count": null,
   "id": "7a57342d",
   "metadata": {
    "tags": []
   },
   "outputs": [],
   "source": [
    "plot(transition_3.path.r, legend = :bottom, label = \"r\")\n",
    "hline!([laissez_faire.r, final_eq_3.r], lw = 1)"
   ]
  },
  {
   "cell_type": "markdown",
   "id": "afa220a6",
   "metadata": {},
   "source": [
    "## Statistics  "
   ]
  },
  {
   "cell_type": "code",
   "execution_count": null,
   "id": "142f3c4e",
   "metadata": {
    "lines_to_next_cell": 2
   },
   "outputs": [],
   "source": [
    "println(\"INITIAL STEADY STATE\")\n",
    "println(\"=====================\")\n",
    "summary_statics(laissez_faire)"
   ]
  },
  {
   "cell_type": "code",
   "execution_count": null,
   "id": "d4352ddd",
   "metadata": {
    "lines_to_next_cell": 2
   },
   "outputs": [],
   "source": [
    "println(\"\\nFINAL STEADY STATE -- CONSTANT K AND DEBT\")\n",
    "println(\"=====================\")\n",
    "summary_statics(final_eq_1, \n",
    "    laissez_faire = laissez_faire, \n",
    "    path = transition.path)"
   ]
  },
  {
   "cell_type": "code",
   "execution_count": null,
   "id": "0d00fadc",
   "metadata": {
    "lines_to_next_cell": 2
   },
   "outputs": [],
   "source": [
    "println(\"FINAL STEADY STATE -- GOLDEN K AND DEBT\")\n",
    "println(\"=====================\")\n",
    "summary_statics(final_eq_2, \n",
    "    laissez_faire = laissez_faire,\n",
    "    path = transition_2.path)"
   ]
  },
  {
   "cell_type": "markdown",
   "id": "53d024e0",
   "metadata": {
    "lines_to_next_cell": 2
   },
   "source": [
    "## Figures for paper"
   ]
  },
  {
   "cell_type": "markdown",
   "id": "3c8d52e3",
   "metadata": {},
   "source": [
    "### Transition plots"
   ]
  },
  {
   "cell_type": "code",
   "execution_count": null,
   "id": "a791bd1a",
   "metadata": {},
   "outputs": [],
   "source": [
    "f1 = plot(do_plots(transition, laissez_faire)..., size = (1000, 500))"
   ]
  },
  {
   "cell_type": "code",
   "execution_count": null,
   "id": "a084a3dc",
   "metadata": {},
   "outputs": [],
   "source": [
    "f2 = plot(do_plots(transition_2, laissez_faire)..., size = (1000, 500))"
   ]
  },
  {
   "cell_type": "code",
   "execution_count": null,
   "id": "0dbbc55a",
   "metadata": {},
   "outputs": [],
   "source": [
    "f3 = plot(do_plots(transition_3, laissez_faire)..., size = (1000, 500))"
   ]
  },
  {
   "cell_type": "markdown",
   "id": "e00b7430",
   "metadata": {},
   "source": [
    "### Steady state segniorage/transfer plot"
   ]
  },
  {
   "cell_type": "markdown",
   "id": "657a3645",
   "metadata": {},
   "source": [
    "We need to increase a_max so that it does not bind as we increase b."
   ]
  },
  {
   "cell_type": "code",
   "execution_count": null,
   "id": "a00b71a7",
   "metadata": {},
   "outputs": [],
   "source": [
    "# Increasing the amax so that it doesn't bind\n",
    "e_2 = let \n",
    "    #Household:\n",
    "    ar1 = 0.9695\n",
    "    sigmaP = sqrt(0.0384)/(1.2)\n",
    "    sigmaIID = sqrt(0.0522)/(1.2)\n",
    "    P, z_vals = calibration(5, 2 , ar1, sigmaP, sigmaIID)\n",
    "\n",
    "    ies = 1.0\n",
    "    crra = 5.5\n",
    "    β = 0.993\n",
    "    \n",
    "    hh = Household(u = EZ(ies = ies, ra = crra), grid_points = 5_000,\n",
    "        v = GHH(θ = 1.0, ν = 0.2), P = P, z_grid = z_vals, β = β, a_max = 50.0)\n",
    "\n",
    "    #Technology\n",
    "    δ = 0.1\n",
    "    μ = 1.4\n",
    "    α = .3\n",
    "    #ρ = 0.7\n",
    "    A_μ = 0.2\n",
    "    # t_μ = MarkupTechnology(f = CES(α = α, ρ = 0.7), δ = δ, μ = μ, A = A_μ)\n",
    "    t_μ = MarkupTechnology(f = CobbDouglas(α = α), δ = δ, μ = μ, A = A_μ)\n",
    "\n",
    "    Economy(h = hh, t = t_μ)\n",
    "end"
   ]
  },
  {
   "cell_type": "code",
   "execution_count": null,
   "id": "28f78ad7",
   "metadata": {},
   "outputs": [],
   "source": [
    "# Solve laissez-faire economy\n",
    "@time laissez_faire_2 = let r_range = (-0.0175, -0.016)\n",
    "    solve_laissez_faire(e_2; \n",
    "        r_range = r_range, \n",
    "        tol =  (value_function = 1e-10, distribution = 1e-13)\n",
    "    ) \n",
    "end"
   ]
  },
  {
   "cell_type": "code",
   "execution_count": null,
   "id": "0a0f2abc",
   "metadata": {},
   "outputs": [],
   "source": [
    "r_guess = nothing \n",
    "if _LOAD_GUESSES\n",
    "    r_guess = try \n",
    "        # load the transfer vector from previous iterations \n",
    "        readdlm(joinpath(@__DIR__, \"..\", \"output\", \"tmp_calcs\", \"tmp_ss_b_r.txt\"))\n",
    "    catch \n",
    "        nothing \n",
    "    end\n",
    "end;"
   ]
  },
  {
   "cell_type": "code",
   "execution_count": null,
   "id": "8686f9cb",
   "metadata": {},
   "outputs": [],
   "source": [
    "out = let\n",
    "    range = [laissez_faire_2.r, 0.0]\n",
    "    f = (b, i) -> begin \n",
    "        print(i, \" \", b, \", \")\n",
    "        if !isnothing(r_guess)\n",
    "            myrange = [r_guess[i, 2] - 1e-5, r_guess[i, 2] + 1e-5]\n",
    "        else\n",
    "            myrange = range\n",
    "        end\n",
    "        sol = solve_new_stationary_equilibrium_given_k_b(\n",
    "            laissez_faire_2,\n",
    "            laissez_faire_2.k, \n",
    "            b * laissez_faire_2.y; \n",
    "            r_range = myrange,\n",
    "            tol = (value_function = 1e-7, distribution = 1e-7),\n",
    "            verbose = false,\n",
    "            find_zero_args = (xatol = 1e-5, maxevals = _ITERS)\n",
    "        )\n",
    "        range[2] = sol.r  # iterating down -- change top value of range \n",
    "        sol\n",
    "    end\n",
    "    [f(i, b) for (b, i) in enumerate(reverse(0.2:0.2:7.0))]\n",
    "end\n",
    "push!(out, laissez_faire_2);"
   ]
  },
  {
   "cell_type": "code",
   "execution_count": null,
   "id": "9a6634fd",
   "metadata": {},
   "outputs": [],
   "source": [
    "_SAVE_GUESSES && open(joinpath(@__DIR__, \"..\", \"output\", \"tmp_calcs\", \"tmp_ss_b_r.txt\"), \"w\") do io\n",
    "    writedlm(io, [(eq.b, eq.r) for eq in out])\n",
    "end"
   ]
  },
  {
   "cell_type": "code",
   "execution_count": null,
   "id": "7b8b0e11",
   "metadata": {},
   "outputs": [],
   "source": [
    "f4 = let \n",
    "    by = [eq.b / eq.y for eq in out]\n",
    "    rb = [-eq.r * eq.b / eq.y for eq in out]\n",
    "    deltark = [(eq.r - laissez_faire_2.r) * eq.k / eq.y for eq in out]\n",
    "    plot(by, rb,  label = L\"- r  b / y\", legend = :bottom, size = (1000/3, 500/2))\n",
    "    plot!(by, deltark, fillrange = rb, color = 1, alpha = 0.2)\n",
    "    plot!(by, deltark, color = 2, label = L\" (r - r_0)  k_0 / y\")\n",
    "end "
   ]
  },
  {
   "cell_type": "markdown",
   "id": "a657db0b",
   "metadata": {},
   "source": [
    "## Exporting the figures"
   ]
  },
  {
   "cell_type": "code",
   "execution_count": null,
   "id": "6ed1f2b9",
   "metadata": {},
   "outputs": [],
   "source": [
    "savefig(f1, joinpath(@__DIR__, \"..\", \"output\", \"figures\", \"transition_efficient_fixed_k.pdf\"))"
   ]
  },
  {
   "cell_type": "code",
   "execution_count": null,
   "id": "6f595517",
   "metadata": {},
   "outputs": [],
   "source": [
    "savefig(f2, joinpath(@__DIR__, \"..\", \"output\", \"figures\", \"transition_efficient_golden_k.pdf\"))"
   ]
  },
  {
   "cell_type": "code",
   "execution_count": null,
   "id": "196c43f1",
   "metadata": {},
   "outputs": [],
   "source": [
    "savefig(f3, joinpath(@__DIR__, \"..\", \"output\", \"figures\", \"transition_efficient_no_debt.pdf\"))"
   ]
  },
  {
   "cell_type": "code",
   "execution_count": null,
   "id": "856f86e4",
   "metadata": {},
   "outputs": [],
   "source": [
    "savefig(f4, joinpath(@__DIR__, \"..\", \"output\", \"figures\", \"steady_state_transfers.pdf\"))"
   ]
  },
  {
   "cell_type": "code",
   "execution_count": null,
   "id": "23024875",
   "metadata": {},
   "outputs": [],
   "source": []
  }
 ],
 "metadata": {
  "jupytext": {
   "encoding": "# -*- coding: utf-8 -*-",
   "formats": "ipynb,jl:light"
  },
  "kernelspec": {
   "display_name": "Julia 4 Threads 1.6.1",
   "language": "julia",
   "name": "julia-4-threads-1.6"
  },
  "language_info": {
   "file_extension": ".jl",
   "mimetype": "application/julia",
   "name": "julia",
   "version": "1.6.1"
  }
 },
 "nbformat": 4,
 "nbformat_minor": 5
}
