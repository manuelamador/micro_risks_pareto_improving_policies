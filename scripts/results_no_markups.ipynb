{
 "cells": [
  {
   "cell_type": "markdown",
   "id": "ac9f3b6a",
   "metadata": {},
   "source": [
    "# Case with no capital tax"
   ]
  },
  {
   "cell_type": "markdown",
   "id": "4f10ea80",
   "metadata": {},
   "source": [
    "Here we do the simulation of the case where there is no capital tax, and as a result, the level of capital adjusts with the interest rate. This is done for the economy without markups."
   ]
  },
  {
   "cell_type": "code",
   "execution_count": 1,
   "id": "10f494fc",
   "metadata": {
    "tags": []
   },
   "outputs": [
    {
     "name": "stderr",
     "output_type": "stream",
     "text": [
      "┌ Info: Precompiling Aiyagari [7fa42512-05e8-4b48-85a4-0694c1caf184]\n",
      "└ @ Base loading.jl:1317\n"
     ]
    }
   ],
   "source": [
    "import Pkg; Pkg.activate(joinpath(@__DIR__, \"..\"))\n",
    "using Revise\n",
    "using Aiyagari\n",
    "using StructArrays\n",
    "using Plots\n",
    "using ProgressMeter\n",
    "using DelimitedFiles\n",
    "using FastClosures"
   ]
  },
  {
   "cell_type": "code",
   "execution_count": 2,
   "id": "4aec5c4d",
   "metadata": {
    "tags": []
   },
   "outputs": [],
   "source": [
    "ProgressMeter.ijulia_behavior(:clear);\n",
    "pgfplotsx();\n",
    "default(label = \"\", lw = 2, dpi = 300, left_margin = 0Plots.mm, format=:svg);"
   ]
  },
  {
   "cell_type": "code",
   "execution_count": 3,
   "id": "37d71ff6",
   "metadata": {},
   "outputs": [
    {
     "data": {
      "text/plain": [
       "1"
      ]
     },
     "execution_count": 3,
     "metadata": {},
     "output_type": "execute_result"
    }
   ],
   "source": [
    "_LOAD_GUESSES = true\n",
    "_SAVE_GUESSES = false\n",
    "_ITERS = 1"
   ]
  },
  {
   "cell_type": "markdown",
   "id": "502d1ebb",
   "metadata": {},
   "source": [
    "## Benchmark calibration"
   ]
  },
  {
   "cell_type": "code",
   "execution_count": 4,
   "id": "191fd311",
   "metadata": {
    "scrolled": true
   },
   "outputs": [
    {
     "data": {
      "text/plain": [
       "Economy: EZ(ies = 1.0, ra = 5.5), β=0.99, v=GHH(θ = 1.0, ν = 0.2), z_grid=[0.17222630362336605..3.621762275547772], P=[..], pts=10000, a_max=100.0, a_min=0.0, CobbDouglas(α=0.3), A=1.0, δ=0.1"
      ]
     },
     "execution_count": 4,
     "metadata": {},
     "output_type": "execute_result"
    }
   ],
   "source": [
    "# Dirk and Kurt's calibration (almost)\n",
    "e = let \n",
    "    P, z_vals = let\n",
    "        ar1 = 0.9695\n",
    "        sigmaP = sqrt(0.0384)/(1.2)\n",
    "        sigmaIID = sqrt(0.0522)/(1.2)\n",
    "         calibration(5, 2 , ar1, sigmaP, sigmaIID)\n",
    "    end\n",
    "    # Technology\n",
    "    t = let \n",
    "        θ = 0.3\n",
    "        ls = 1 - θ\n",
    "        δ = 0.1\n",
    "        #α1, A1 = get_tech_params(1, θ = θ)\n",
    "        A1 = 1.0\n",
    "        α1 = 0.3\n",
    "        Technology(f = CobbDouglas(α = α1), δ = δ)\n",
    "    end\n",
    "    # Households\n",
    "    h = let \n",
    "        ies = 1.0\n",
    "        β = 0.99 #* (1 + g)^(1 - 1/ies)\n",
    "        Household(\n",
    "            u = EZ(ies = 1.0, ra = 5.5),\n",
    "            v = GHH(θ = 1.0, ν = 0.2), \n",
    "            P = P, z_grid = z_vals, β = β, a_max = 100.0)\n",
    "    end\n",
    "    Economy(h = h, t = t)\n",
    "end "
   ]
  },
  {
   "cell_type": "code",
   "execution_count": null,
   "id": "499c9e9f",
   "metadata": {},
   "outputs": [
    {
     "name": "stderr",
     "output_type": "stream",
     "text": [
      "\r",
      "\u001b[32mProgress:  44 \t Time: 0:05:27\u001b[39m\r\n",
      "\u001b[34m  r:       -0.01717815985360501\u001b[39m\r\n",
      "\u001b[34m  excess:  1.1345644299609603e-6\u001b[39m"
     ]
    }
   ],
   "source": [
    "r_range = (-0.0172, -0.0171) # narrowing the range\n",
    "@time laissez_faire = solve_laissez_faire(e; \n",
    "    r_range = r_range, \n",
    "    tol =  (value_function = 1e-10, distribution = 1e-13)\n",
    ") "
   ]
  },
  {
   "cell_type": "markdown",
   "id": "c9ef22f9",
   "metadata": {},
   "source": [
    "## New stationary outcome"
   ]
  },
  {
   "cell_type": "code",
   "execution_count": null,
   "id": "b2801ed0",
   "metadata": {},
   "outputs": [],
   "source": [
    "b_target = laissez_faire.y * 0.60"
   ]
  },
  {
   "cell_type": "code",
   "execution_count": null,
   "id": "1774ab1d",
   "metadata": {},
   "outputs": [],
   "source": [
    "r_range_2 = (-0.0152, -0.0148)  # narrowing the range\n",
    "@time final_eq = solve_new_stationary_equilibrium_given_k_b(\n",
    "    laissez_faire;\n",
    "    k_b_fun = (r) -> begin\n",
    "        # returns k consistent with r and no capital taxes\n",
    "        t = get_t(laissez_faire)\n",
    "        b = b_target\n",
    "        rK = rK_from_r(;t, r)\n",
    "        mpk = mpk_from_after_tax_rK(t, rK)\n",
    "        k = k_from_mpk(t; mpk, laissez_faire.n)\n",
    "        return (k, b)\n",
    "    end,\n",
    "    r_range = r_range_2,\n",
    "    tol = (value_function = 1e-7, distribution = 1e-8)\n",
    ")"
   ]
  },
  {
   "cell_type": "markdown",
   "id": "319d9a4e",
   "metadata": {},
   "source": [
    "## Transition"
   ]
  },
  {
   "cell_type": "code",
   "execution_count": null,
   "id": "46b75536",
   "metadata": {},
   "outputs": [],
   "source": [
    "T = 100 \n",
    "H = 50;"
   ]
  },
  {
   "cell_type": "code",
   "execution_count": null,
   "id": "abe27779",
   "metadata": {},
   "outputs": [],
   "source": [
    "# Smooth debt policy\n",
    "ρB = 0.9\n",
    "b_list = Array{Float64,1}(undef, T + H)\n",
    "b_list[1] = 0.0\n",
    "b_list[2] = laissez_faire.y * 0.05\n",
    "b_list[T:end] .= b_target\n",
    "for i in 3:T-1\n",
    "    b_list[i] = b_list[2] * ρB^(i-2) + (1 - ρB^(i-2)) * b_target   \n",
    "end"
   ]
  },
  {
   "cell_type": "code",
   "execution_count": null,
   "id": "047ccc42",
   "metadata": {},
   "outputs": [],
   "source": [
    "r_path = nothing \n",
    "if _LOAD_GUESSES\n",
    "    r_path = try \n",
    "        # load the transfer vector from previous iterations \n",
    "        readdlm(joinpath(@__DIR__, \"..\", \"output\", \"tmp_calcs\", \"tmpINEFF001.txt\"))[:,1]\n",
    "    catch \n",
    "        nothing \n",
    "    end\n",
    "end;"
   ]
  },
  {
   "cell_type": "code",
   "execution_count": null,
   "id": "605b236e",
   "metadata": {},
   "outputs": [],
   "source": [
    "function generate_k_b_no_taxk(laissez_faire, final, b_list; _max_k = 1e+5) \n",
    "    f = @closure (r, i) -> begin \n",
    "        if i <= length(b_list)\n",
    "            b = b_list[i]\n",
    "        else \n",
    "            b = final.b\n",
    "        end\n",
    "        h = get_h(laissez_faire)\n",
    "        t = get_t(laissez_faire)\n",
    "        rK = rK_from_r(;t, r)\n",
    "        mpk = mpk_from_after_tax_rK(t, rK) \n",
    "        k = k_from_mpk(t; mpk, laissez_faire.n)\n",
    "        return (k, b)\n",
    "    end \n",
    "    return f\n",
    "end "
   ]
  },
  {
   "cell_type": "code",
   "execution_count": null,
   "id": "d19e7f91",
   "metadata": {},
   "outputs": [],
   "source": [
    "my_k_b_fun = generate_k_b_no_taxk(laissez_faire, final_eq, b_list)"
   ]
  },
  {
   "cell_type": "code",
   "execution_count": null,
   "id": "ad0372d5",
   "metadata": {},
   "outputs": [],
   "source": [
    "transition = solve_transition(\n",
    "    laissez_faire, \n",
    "    final_eq;\n",
    "    k_b_fun = my_k_b_fun,\n",
    "    init_r_path = r_path,\n",
    "    path_length = T + H, \n",
    "    iterations = _ITERS, \n",
    "    m = 10,\n",
    "    beta = -0.01 \n",
    ");"
   ]
  },
  {
   "cell_type": "code",
   "execution_count": null,
   "id": "3eb1264d",
   "metadata": {},
   "outputs": [],
   "source": [
    "plot(transition.path.r)"
   ]
  },
  {
   "cell_type": "code",
   "execution_count": null,
   "id": "9b44789b",
   "metadata": {},
   "outputs": [],
   "source": [
    "plot(transition.path.transfer)"
   ]
  },
  {
   "cell_type": "code",
   "execution_count": null,
   "id": "b08e724a",
   "metadata": {},
   "outputs": [],
   "source": [
    "plot(transition.path.k)\n",
    "plot!(transition.path.b)"
   ]
  },
  {
   "cell_type": "code",
   "execution_count": null,
   "id": "bf7e2506",
   "metadata": {},
   "outputs": [],
   "source": [
    "_SAVE_GUESSES && open(joinpath(@__DIR__, \"..\", \"output\", \"tmp_calcs\", \"tmpINEFF001.txt\"), \"w\") do io\n",
    "    writedlm(io, transition.path.r)\n",
    "end"
   ]
  },
  {
   "cell_type": "markdown",
   "id": "0ea28b93",
   "metadata": {},
   "source": [
    "## Satistics and Plots "
   ]
  },
  {
   "cell_type": "code",
   "execution_count": null,
   "id": "fd7b15c2",
   "metadata": {},
   "outputs": [],
   "source": [
    "println(\"INITIAL STEADY STATE\")\n",
    "println(\"=====================\")\n",
    "summary_statics(laissez_faire)"
   ]
  },
  {
   "cell_type": "code",
   "execution_count": null,
   "id": "520df19c",
   "metadata": {
    "lines_to_next_cell": 2
   },
   "outputs": [],
   "source": [
    "println(\"FINAL STEADY STATE\")\n",
    "println(\"=====================\")\n",
    "summary_statics(final_eq, path = transition.path, laissez_faire = laissez_faire)"
   ]
  },
  {
   "cell_type": "code",
   "execution_count": null,
   "id": "999292ef",
   "metadata": {},
   "outputs": [],
   "source": [
    "f1 = plot(do_plots(transition, laissez_faire)..., size = (800, 400))"
   ]
  },
  {
   "cell_type": "code",
   "execution_count": null,
   "id": "cefbc5fd",
   "metadata": {},
   "outputs": [],
   "source": [
    "savefig(f1, joinpath(@__DIR__, \"..\", \"output\", \"figures\", \"transition_inefficient.pdf\"))"
   ]
  },
  {
   "cell_type": "code",
   "execution_count": null,
   "id": "bfe09dbb",
   "metadata": {},
   "outputs": [],
   "source": []
  }
 ],
 "metadata": {
  "jupytext": {
   "encoding": "# -*- coding: utf-8 -*-",
   "formats": "ipynb,jl:light"
  },
  "kernelspec": {
   "display_name": "Julia 4 Threads 1.6.1",
   "language": "julia",
   "name": "julia-4-threads-1.6"
  },
  "language_info": {
   "file_extension": ".jl",
   "mimetype": "application/julia",
   "name": "julia",
   "version": "1.6.1"
  }
 },
 "nbformat": 4,
 "nbformat_minor": 5
}
